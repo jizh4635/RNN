{
 "cells": [
  {
   "cell_type": "markdown",
   "id": "f1415911",
   "metadata": {
    "papermill": {
     "duration": 0.005794,
     "end_time": "2023-04-16T03:37:12.000334",
     "exception": false,
     "start_time": "2023-04-16T03:37:11.994540",
     "status": "completed"
    },
    "tags": []
   },
   "source": [
    "# 1. Brief description of the problem and data\n",
    "\n",
    "The rapid advancements in artificial intelligence and machine learning have led to significant progress in various domains. Now, we have a chance to utilize AI to tackle the problem of identifying metastatic cancer in small image patches taken from larger digital pathology scans. A Convolutional Neural Network (CNN) is better to solve this kind of a binary image classification problem, where the goal is to determine whether a given image patch contains metastatic cancer or not. \n",
    "\n",
    "The data for this challenge is based on the PatchCamelyon (PCam) benchmark dataset, which has been modified to remove duplicate images. PCam dataset is interesting due to its size, simplicity, and approachability. It allows for models to be trained on a single GPU within a few hours and achieve competitive scores. As for the Natural Language Processing (NLP) task, it involves the processing, understanding, and generation of human language by computer algorithms. NLP techniques are widely used for tasks such as sentiment analysis, machine translation, and chatbot development."
   ]
  },
  {
   "cell_type": "markdown",
   "id": "c5ece282",
   "metadata": {
    "papermill": {
     "duration": 0.004271,
     "end_time": "2023-04-16T03:37:12.009508",
     "exception": false,
     "start_time": "2023-04-16T03:37:12.005237",
     "status": "completed"
    },
    "tags": []
   },
   "source": [
    "# 2. Exploratory Data Analysis (EDA) — Inspect, Visualize and Clean the Data\n",
    "\n",
    "**2.1 Load data and list the images**"
   ]
  },
  {
   "cell_type": "code",
   "execution_count": 1,
   "id": "a58fdc53",
   "metadata": {
    "execution": {
     "iopub.execute_input": "2023-04-16T03:37:12.021127Z",
     "iopub.status.busy": "2023-04-16T03:37:12.020580Z",
     "iopub.status.idle": "2023-04-16T03:37:13.027295Z",
     "shell.execute_reply": "2023-04-16T03:37:13.026240Z"
    },
    "papermill": {
     "duration": 1.015599,
     "end_time": "2023-04-16T03:37:13.029924",
     "exception": false,
     "start_time": "2023-04-16T03:37:12.014325",
     "status": "completed"
    },
    "tags": []
   },
   "outputs": [],
   "source": [
    "import numpy as np # linear algebra\n",
    "import pandas as pd # data processing, CSV file I/O (e.g. pd.read_csv)\n",
    "import matplotlib.pyplot as plt\n",
    "import seaborn as sns\n",
    "\n",
    "import os\n",
    "import random\n",
    "from PIL import Image\n",
    "\n",
    "# Input data files are available in the read-only \"../input/\" directory\n",
    "# For example, running this (by clicking run or pressing Shift + Enter) will list all files under the input directory\n",
    "\n",
    "import os\n",
    "#for dirname, _, filenames in os.walk('/kaggle/input'):\n",
    "#    for filename in filenames:\n",
    "        #print(os.path.join(dirname, filename))\n",
    "\n",
    "# You can write up to 20GB to the current directory (/kaggle/working/) that gets preserved as output when you create a version using \"Save & Run All\" \n",
    "# You can also write temporary files to /kaggle/temp/, but they won't be saved outside of the current session"
   ]
  },
  {
   "cell_type": "markdown",
   "id": "2068cc62",
   "metadata": {
    "papermill": {
     "duration": 0.004413,
     "end_time": "2023-04-16T03:37:13.039588",
     "exception": false,
     "start_time": "2023-04-16T03:37:13.035175",
     "status": "completed"
    },
    "tags": []
   },
   "source": [
    "**2.2 Label files Exploration**"
   ]
  },
  {
   "cell_type": "code",
   "execution_count": 2,
   "id": "ba750bf9",
   "metadata": {
    "execution": {
     "iopub.execute_input": "2023-04-16T03:37:13.050838Z",
     "iopub.status.busy": "2023-04-16T03:37:13.049972Z",
     "iopub.status.idle": "2023-04-16T03:37:13.704970Z",
     "shell.execute_reply": "2023-04-16T03:37:13.703961Z"
    },
    "papermill": {
     "duration": 0.662802,
     "end_time": "2023-04-16T03:37:13.707115",
     "exception": false,
     "start_time": "2023-04-16T03:37:13.044313",
     "status": "completed"
    },
    "tags": []
   },
   "outputs": [
    {
     "name": "stdout",
     "output_type": "stream",
     "text": [
      "Sample Submission DataFrame:\n",
      "                                         id  label\n",
      "0  0b2ea2a822ad23fdb1b5dd26653da899fbd2c0d5      0\n",
      "1  95596b92e5066c5c52466c90b69ff089b39f2737      0\n",
      "2  248e6738860e2ebcf6258cdc1f32f299e0c76914      0\n",
      "3  2c35657e312966e9294eac6841726ff3a748febf      0\n",
      "4  145782eb7caa1c516acbe2eda34d9a3f31c41fd6      0\n",
      "\n",
      "Train Labels DataFrame:\n",
      "                                         id  label\n",
      "0  f38a6374c348f90b587e046aac6079959adf3835      0\n",
      "1  c18f2d887b7ae4f6742ee445113fa1aef383ed77      1\n",
      "2  755db6279dae599ebb4d39a9123cce439965282d      0\n",
      "3  bc3f0c64fb968ff4a8bd33af6971ecae77c75e08      0\n",
      "4  068aba587a4950175d04c680d38943fd488d6a9d      0\n",
      "Missing values:\n",
      " id       0\n",
      "label    0\n",
      "dtype: int64\n"
     ]
    },
    {
     "data": {
      "image/png": "[encoded data removed]",
      "text/plain": [
       "<Figure size 500x300 with 1 Axes>"
      ]
     },
     "metadata": {},
     "output_type": "display_data"
    }
   ],
   "source": [
    "import pandas as pd\n",
    "\n",
    "# Set the paths to the CSV files\n",
    "sample_submission_path = '/kaggle/input/histopathologic-cancer-detection/sample_submission.csv'\n",
    "train_labels_path = '/kaggle/input/histopathologic-cancer-detection/train_labels.csv'\n",
    "\n",
    "# Read the CSV files\n",
    "sample_submission_df = pd.read_csv(sample_submission_path)\n",
    "train_labels_df = pd.read_csv(train_labels_path)\n",
    "\n",
    "# Display the first few rows of each DataFrame\n",
    "print(\"Sample Submission DataFrame:\")\n",
    "print(sample_submission_df.head())\n",
    "\n",
    "print(\"\\nTrain Labels DataFrame:\")\n",
    "print(train_labels_df.head())\n",
    "\n",
    "# Data cleaning: Check for missing values\n",
    "missing_values = train_labels_df.isnull().sum()\n",
    "print(\"Missing values:\\n\", missing_values)\n",
    "\n",
    "# Visualize the distribution of the target variable (label)\n",
    "plt.figure(figsize=(5, 3))\n",
    "sns.countplot(x='label', data=train_labels_df)\n",
    "plt.title('Histogram of Target Variable (Label)')\n",
    "plt.xlabel('Label')\n",
    "plt.ylabel('Count')\n",
    "plt.show()"
   ]
  },
  {
   "cell_type": "markdown",
   "id": "5f9fab4c",
   "metadata": {
    "papermill": {
     "duration": 0.005018,
     "end_time": "2023-04-16T03:37:13.717449",
     "exception": false,
     "start_time": "2023-04-16T03:37:13.712431",
     "status": "completed"
    },
    "tags": []
   },
   "source": [
    "**2.3 Visualize the pictures**"
   ]
  },
  {
   "cell_type": "code",
   "execution_count": 3,
   "id": "7f3271b1",
   "metadata": {
    "execution": {
     "iopub.execute_input": "2023-04-16T03:37:13.729327Z",
     "iopub.status.busy": "2023-04-16T03:37:13.728903Z",
     "iopub.status.idle": "2023-04-16T03:37:20.165928Z",
     "shell.execute_reply": "2023-04-16T03:37:20.164957Z"
    },
    "papermill": {
     "duration": 6.445691,
     "end_time": "2023-04-16T03:37:20.168076",
     "exception": false,
     "start_time": "2023-04-16T03:37:13.722385",
     "status": "completed"
    },
    "tags": []
   },
   "outputs": [
    {
     "data": {
      "image/png": "[encoded data removed]",
      "text/plain": [
       "<Figure size 500x500 with 100 Axes>"
      ]
     },
     "metadata": {},
     "output_type": "display_data"
    }
   ],
   "source": [
    "# Set the path to the images\n",
    "train_images_path = '/kaggle/input/histopathologic-cancer-detection/train/'\n",
    "\n",
    "# Get a list of image file names\n",
    "image_files = os.listdir(train_images_path)\n",
    "\n",
    "# Randomly select a few images\n",
    "num_images_to_show = 25\n",
    "selected_images = random.sample(image_files, num_images_to_show)\n",
    "\n",
    "# Plot the selected images in a grid\n",
    "fig, axes = plt.subplots(25, 4, figsize=(5, 5))\n",
    "axes = axes.ravel()\n",
    "\n",
    "for i, img_name in enumerate(selected_images):\n",
    "    img_path = os.path.join(train_images_path, img_name)\n",
    "    img = Image.open(img_path)\n",
    "    axes[i].imshow(img)\n",
    "    axes[i].axis('off')\n",
    "    axes[i].set_title(f\"Image {i+1}\")\n",
    "\n",
    "plt.show()"
   ]
  },
  {
   "cell_type": "markdown",
   "id": "b14ebd83",
   "metadata": {
    "papermill": {
     "duration": 0.005198,
     "end_time": "2023-04-16T03:37:20.179325",
     "exception": false,
     "start_time": "2023-04-16T03:37:20.174127",
     "status": "completed"
    },
    "tags": []
   },
   "source": [
    "# 3.Model to choose\n",
    "\n",
    "For the problem of histopathologic cancer detection, we can start with a Convolutional Neural Network (CNN) as it is well-suited for image classification tasks. Below, I will describe a possible model architecture and the reasoning behind the choices made.\n",
    "\n",
    "* Input Layer: The input layer will accept images of shape (96, 96, 3) for the PCam dataset (96x96 pixels with 3 color channels).\n",
    "\n",
    "* Convolutional Layer 1: Apply 32 filters of size (3, 3) with a ReLU activation function. This layer will help the model learn basic features such as edges and textures.\n",
    "\n",
    "* Max Pooling Layer 1: Apply max pooling with a pool size of (2, 2) to reduce the spatial dimensions of the input and retain important features.\n",
    "\n",
    "* Convolutional Layer 2: Apply 64 filters of size (3, 3) with a ReLU activation function. This layer will learn more complex features from the input.\n",
    "\n",
    "* Max Pooling Layer 2: Apply max pooling with a pool size of (2, 2).\n",
    "\n",
    "* Convolutional Layer 3: Apply 128 filters of size (3, 3) with a ReLU activation function.\n",
    "\n",
    "* Max Pooling Layer 3: Apply max pooling with a pool size of (2, 2).\n",
    "\n",
    "* Flatten Layer: Flatten the output from the previous layer into a 1D array.\n",
    "\n",
    "* Fully Connected Layer 1: Create a dense layer with 256 neurons and a ReLU activation function. This layer will learn to combine features from the previous layers to make predictions.\n",
    "\n",
    "* Dropout Layer: Apply dropout with a rate of 0.5 to prevent overfitting.\n",
    "\n",
    "* Output Layer: Create a dense layer with 1 neuron and a sigmoid activation function to produce a probability of cancer presence."
   ]
  },
  {
   "cell_type": "code",
   "execution_count": 4,
   "id": "6b0050a5",
   "metadata": {
    "execution": {
     "iopub.execute_input": "2023-04-16T03:37:20.193046Z",
     "iopub.status.busy": "2023-04-16T03:37:20.191850Z",
     "iopub.status.idle": "2023-04-16T03:37:25.817863Z",
     "shell.execute_reply": "2023-04-16T03:37:25.816442Z"
    },
    "papermill": {
     "duration": 5.635111,
     "end_time": "2023-04-16T03:37:25.820214",
     "exception": false,
     "start_time": "2023-04-16T03:37:20.185103",
     "status": "completed"
    },
    "tags": []
   },
   "outputs": [
    {
     "name": "stdout",
     "output_type": "stream",
     "text": [
      "CancerNet(\n",
      "  (conv1): Conv2d(3, 16, kernel_size=(3, 3), stride=(1, 1), padding=(1, 1))\n",
      "  (pool1): MaxPool2d(kernel_size=2, stride=2, padding=0, dilation=1, ceil_mode=False)\n",
      "  (conv2): Conv2d(16, 32, kernel_size=(3, 3), stride=(1, 1), padding=(1, 1))\n",
      "  (pool2): MaxPool2d(kernel_size=2, stride=2, padding=0, dilation=1, ceil_mode=False)\n",
      "  (conv3): Conv2d(32, 64, kernel_size=(3, 3), stride=(1, 1), padding=(1, 1))\n",
      "  (pool3): MaxPool2d(kernel_size=2, stride=2, padding=0, dilation=1, ceil_mode=False)\n",
      "  (fc1): Linear(in_features=9216, out_features=128, bias=True)\n",
      "  (dropout): Dropout(p=0.5, inplace=False)\n",
      "  (fc2): Linear(in_features=128, out_features=1, bias=True)\n",
      ")\n"
     ]
    }
   ],
   "source": [
    "import torch\n",
    "import torch.nn as nn\n",
    "import torch.optim as optim\n",
    "from torch.utils.data import DataLoader, Dataset\n",
    "import torchvision.transforms as transforms\n",
    "\n",
    "import torch.nn.functional as F\n",
    "\n",
    "class CancerNet(nn.Module):\n",
    "    def __init__(self):\n",
    "        super(CancerNet, self).__init__()\n",
    "        self.conv1 = nn.Conv2d(3, 16, 3, padding=1)\n",
    "        self.pool1 = nn.MaxPool2d(2, 2)\n",
    "        self.conv2 = nn.Conv2d(16, 32, 3, padding=1)\n",
    "        self.pool2 = nn.MaxPool2d(2, 2)\n",
    "        self.conv3 = nn.Conv2d(32, 64, 3, padding=1)\n",
    "        self.pool3 = nn.MaxPool2d(2, 2)\n",
    "        self.fc1 = nn.Linear(64 * 12 * 12, 128)  # Update the input size\n",
    "        self.dropout = nn.Dropout(0.5)\n",
    "        self.fc2 = nn.Linear(128, 1)\n",
    "        \n",
    "    def forward(self, x):\n",
    "        x = self.pool1(F.relu(self.conv1(x)))\n",
    "        x = self.pool2(F.relu(self.conv2(x)))\n",
    "        x = self.pool3(F.relu(self.conv3(x)))\n",
    "        \n",
    "        #x = x.view(-1, 64 * 12 * 12)  # Update the view size\n",
    "        x = torch.flatten(x, start_dim=1)  # Replace view() with flatten()\n",
    "            \n",
    "        x = F.relu(self.fc1(x))\n",
    "        x = self.dropout(x)\n",
    "        x = self.fc2(x)\n",
    "        return torch.sigmoid(x)\n",
    "\n",
    "    \n",
    "# Create the model\n",
    "device = torch.device(\"cuda\" if torch.cuda.is_available() else \"cpu\")\n",
    "model = CancerNet().to(device)\n",
    "\n",
    "# Print the structure of the model\n",
    "print(model)"
   ]
  },
  {
   "cell_type": "markdown",
   "id": "d3333254",
   "metadata": {
    "papermill": {
     "duration": 0.005381,
     "end_time": "2023-04-16T03:37:25.831463",
     "exception": false,
     "start_time": "2023-04-16T03:37:25.826082",
     "status": "completed"
    },
    "tags": []
   },
   "source": [
    "# 4. Results and Analysis\n",
    "\n",
    "Run hyperparameter tuning, try different architectures for comparison, apply techniques to improve training or performance, and discuss what helped.\n",
    "Includes results with tables and figures. There is an analysis of why or why not something worked well, troubleshooting, and a hyperparameter optimization procedure summary.\n",
    "\n",
    "**4.1 Split the datasets**"
   ]
  },
  {
   "cell_type": "code",
   "execution_count": 5,
   "id": "c73b80fb",
   "metadata": {
    "execution": {
     "iopub.execute_input": "2023-04-16T03:37:25.846485Z",
     "iopub.status.busy": "2023-04-16T03:37:25.845951Z",
     "iopub.status.idle": "2023-04-16T03:37:26.201796Z",
     "shell.execute_reply": "2023-04-16T03:37:26.200650Z"
    },
    "papermill": {
     "duration": 0.366182,
     "end_time": "2023-04-16T03:37:26.204708",
     "exception": false,
     "start_time": "2023-04-16T03:37:25.838526",
     "status": "completed"
    },
    "tags": []
   },
   "outputs": [],
   "source": [
    "# Plan of analysis:\n",
    "# 1. Split the data into training and validation sets\n",
    "# 2. Preprocess the image data (resize, normalize, etc.)\n",
    "# 3. Build a CNN model for classification\n",
    "# 4. Train the model on the training data and evaluate its performance on the validation data\n",
    "# 5. Fine-tune the model (if necessary) and make predictions on the test data\n",
    "\n",
    "import os\n",
    "import pandas as pd\n",
    "import numpy as np\n",
    "from skimage.io import imread"
   ]
  },
  {
   "cell_type": "markdown",
   "id": "c62ddead",
   "metadata": {
    "papermill": {
     "duration": 0.006345,
     "end_time": "2023-04-16T03:37:26.217126",
     "exception": false,
     "start_time": "2023-04-16T03:37:26.210781",
     "status": "completed"
    },
    "tags": []
   },
   "source": [
    "**4.2 Preprocess the image data (resize, normalize, etc.)**"
   ]
  },
  {
   "cell_type": "code",
   "execution_count": 6,
   "id": "a9e4bf0c",
   "metadata": {
    "execution": {
     "iopub.execute_input": "2023-04-16T03:37:26.231283Z",
     "iopub.status.busy": "2023-04-16T03:37:26.230628Z",
     "iopub.status.idle": "2023-04-16T03:37:26.896397Z",
     "shell.execute_reply": "2023-04-16T03:37:26.895061Z"
    },
    "papermill": {
     "duration": 0.676139,
     "end_time": "2023-04-16T03:37:26.899426",
     "exception": false,
     "start_time": "2023-04-16T03:37:26.223287",
     "status": "completed"
    },
    "tags": []
   },
   "outputs": [
    {
     "name": "stdout",
     "output_type": "stream",
     "text": [
      "Image width: 96\n",
      "Image height: 96\n",
      "Image dimensions: 96 x 96 x 3\n",
      "Number of images in train_labels_df: 220025\n",
      "Number of images in selected_data: 220\n",
      "Number of images in train_df: 132\n",
      "Number of images in val_df: 88\n"
     ]
    }
   ],
   "source": [
    "from skimage.io import imread\n",
    "from skimage.transform import resize\n",
    "from skimage.io import imread\n",
    "\n",
    "from torch.utils.data import Dataset, DataLoader\n",
    "from torchvision import transforms\n",
    "from sklearn.model_selection import train_test_split\n",
    "import matplotlib.pyplot as plt\n",
    "\n",
    "\n",
    "# Load the first image using the file name and path\n",
    "first_image = imread(os.path.join(train_images_path, image_files[0]))\n",
    "\n",
    "# Get the dimensions of the image\n",
    "height, width, channels = first_image.shape\n",
    "\n",
    "print(f\"Image width: {width}\")\n",
    "print(f\"Image height: {height}\")\n",
    "print(f\"Image dimensions: {width} x {height} x {channels}\")\n",
    "\n",
    "# Load train labels\n",
    "train_labels_df = pd.read_csv(train_labels_path)\n",
    "\n",
    "# Select 0.01% of the data\n",
    "selected_data = train_labels_df.sample(frac=0.001, random_state=42)\n",
    "\n",
    "# Split the selected dataset into training and validation sets (1/10 for training)\n",
    "train_df, val_df = train_test_split(selected_data, train_size=0.6, random_state=42)\n",
    "\n",
    "\n",
    "print(f\"Number of images in train_labels_df: {train_labels_df.shape[0]}\")\n",
    "print(f\"Number of images in selected_data: {selected_data.shape[0]}\")\n",
    "print(f\"Number of images in train_df: {train_df.shape[0]}\")\n",
    "print(f\"Number of images in val_df: {val_df.shape[0]}\")\n",
    "\n",
    "\n",
    "# Create a custom dataset class\n",
    "class CancerDataset(Dataset):\n",
    "    def __init__(self, df, root_dir, transform=None):\n",
    "        self.df = df\n",
    "        self.root_dir = root_dir\n",
    "        self.transform = transform\n",
    "\n",
    "    def __len__(self):\n",
    "        return len(self.df)\n",
    "\n",
    "    def __getitem__(self, idx):\n",
    "        if torch.is_tensor(idx):\n",
    "            idx = idx.tolist()\n",
    "\n",
    "        img_name = os.path.join(self.root_dir, self.df.iloc[idx, 0]) + '.tif'\n",
    "        image = imread(img_name)\n",
    "        label = self.df.iloc[idx, 1]\n",
    "\n",
    "        if self.transform:\n",
    "            image = self.transform(image)\n",
    "\n",
    "        return image, label\n",
    "\n",
    "# Define data transformations\n",
    "data_transform = transforms.Compose([\n",
    "    transforms.ToPILImage(),\n",
    "    transforms.RandomHorizontalFlip(),\n",
    "    transforms.RandomVerticalFlip(),\n",
    "    transforms.ToTensor()\n",
    "])\n",
    "\n",
    "# Create datasets and data loaders\n",
    "train_dataset = CancerDataset(train_df, train_images_path, transform=data_transform)\n",
    "val_dataset = CancerDataset(val_df, train_images_path, transform=data_transform)\n",
    "\n",
    "train_loader = DataLoader(train_dataset, batch_size=32, shuffle=True)\n",
    "val_loader = DataLoader(val_dataset, batch_size=32, shuffle=False)"
   ]
  },
  {
   "cell_type": "markdown",
   "id": "3648b75d",
   "metadata": {
    "papermill": {
     "duration": 0.008421,
     "end_time": "2023-04-16T03:37:26.918625",
     "exception": false,
     "start_time": "2023-04-16T03:37:26.910204",
     "status": "completed"
    },
    "tags": []
   },
   "source": [
    "**4.3 Build and evaluate our model**"
   ]
  },
  {
   "cell_type": "code",
   "execution_count": 7,
   "id": "17adab91",
   "metadata": {
    "execution": {
     "iopub.execute_input": "2023-04-16T03:37:26.938060Z",
     "iopub.status.busy": "2023-04-16T03:37:26.937475Z",
     "iopub.status.idle": "2023-04-16T03:37:31.660961Z",
     "shell.execute_reply": "2023-04-16T03:37:31.659655Z"
    },
    "papermill": {
     "duration": 4.736376,
     "end_time": "2023-04-16T03:37:31.663706",
     "exception": false,
     "start_time": "2023-04-16T03:37:26.927330",
     "status": "completed"
    },
    "tags": []
   },
   "outputs": [
    {
     "name": "stderr",
     "output_type": "stream",
     "text": [
      "Epoch 1 (Training): 100%|██████████| 5/5 [00:02<00:00,  2.17it/s]\n",
      "Epoch 1 (Validation): 100%|██████████| 3/3 [00:00<00:00,  3.11it/s]\n"
     ]
    },
    {
     "name": "stdout",
     "output_type": "stream",
     "text": [
      "Epoch 1, Train Loss: 0.7297969460487366, Val Loss: 0.693145751953125\n"
     ]
    },
    {
     "name": "stderr",
     "output_type": "stream",
     "text": [
      "Epoch 2 (Training): 100%|██████████| 5/5 [00:01<00:00,  4.93it/s]\n",
      "Epoch 2 (Validation): 100%|██████████| 3/3 [00:00<00:00,  8.01it/s]"
     ]
    },
    {
     "name": "stdout",
     "output_type": "stream",
     "text": [
      "Epoch 2, Train Loss: 0.6932124376296998, Val Loss: 0.6931471625963846\n"
     ]
    },
    {
     "name": "stderr",
     "output_type": "stream",
     "text": [
      "\n"
     ]
    }
   ],
   "source": [
    "import tqdm\n",
    "    \n",
    "# Create the model (assuming you have the model definition from previous steps)\n",
    "model = CancerNet()\n",
    "\n",
    "# Compile the model\n",
    "optimizer = torch.optim.Adam(model.parameters(), lr=0.001)\n",
    "criterion = torch.nn.BCEWithLogitsLoss()\n",
    "\n",
    "# Train the model\n",
    "num_epochs = 2\n",
    "train_loss_history = []\n",
    "val_loss_history = []\n",
    "\n",
    "for epoch in range(num_epochs):\n",
    "    train_loss = 0.0\n",
    "    val_loss = 0.0\n",
    "\n",
    "    model.train()\n",
    "    for images, labels in tqdm.tqdm(train_loader, desc=f\"Epoch {epoch+1} (Training)\"):\n",
    "        optimizer.zero_grad()\n",
    "        outputs = model(images)\n",
    "        loss = criterion(outputs.squeeze(), labels.float())\n",
    "        loss.backward()\n",
    "        optimizer.step()\n",
    "        train_loss += loss.item()\n",
    "\n",
    "    model.eval()\n",
    "    with torch.no_grad():\n",
    "        for images, labels in tqdm.tqdm(val_loader, desc=f\"Epoch {epoch+1} (Validation)\"):\n",
    "            outputs = model(images)\n",
    "            loss = criterion(outputs.squeeze(), labels.float())\n",
    "            val_loss += loss.item()\n",
    "\n",
    "    train_loss /= len(train_loader)\n",
    "    val_loss /= len(val_loader)\n",
    "    train_loss_history.append(train_loss)\n",
    "    val_loss_history.append(val_loss)\n",
    "    print(f\"Epoch {epoch+1}, Train Loss: {train_loss}, Val Loss: {val_loss}\")\n",
    "\n",
    "\n",
    "# Save the trained model\n",
    "#model_path = \"/kaggle/working/model.pth\"\n",
    "#torch.save(model.state_dict(), model_path)"
   ]
  },
  {
   "cell_type": "markdown",
   "id": "5f63b627",
   "metadata": {
    "papermill": {
     "duration": 0.007503,
     "end_time": "2023-04-16T03:37:31.678455",
     "exception": false,
     "start_time": "2023-04-16T03:37:31.670952",
     "status": "completed"
    },
    "tags": []
   },
   "source": [
    "**4.4 Fine-tune the model**\n",
    "\n",
    "(if necessary) and make predictions on the test data"
   ]
  },
  {
   "cell_type": "code",
   "execution_count": 8,
   "id": "1ecc9c73",
   "metadata": {
    "execution": {
     "iopub.execute_input": "2023-04-16T03:37:31.695802Z",
     "iopub.status.busy": "2023-04-16T03:37:31.694661Z",
     "iopub.status.idle": "2023-04-16T03:37:31.933256Z",
     "shell.execute_reply": "2023-04-16T03:37:31.932044Z"
    },
    "papermill": {
     "duration": 0.250045,
     "end_time": "2023-04-16T03:37:31.935815",
     "exception": false,
     "start_time": "2023-04-16T03:37:31.685770",
     "status": "completed"
    },
    "tags": []
   },
   "outputs": [
    {
     "data": {
      "image/png": "[encoded data removed]",
      "text/plain": [
       "<Figure size 640x480 with 1 Axes>"
      ]
     },
     "metadata": {},
     "output_type": "display_data"
    }
   ],
   "source": [
    "# Plot the loss history\n",
    "plt.plot(train_loss_history, label='Train Loss')\n",
    "plt.plot(val_loss_history, label='Val Loss')\n",
    "plt.xlabel('Epoch')\n",
    "plt.ylabel('Loss')\n",
    "plt.legend()\n",
    "plt.show()"
   ]
  },
  {
   "cell_type": "markdown",
   "id": "3c4ccb4b",
   "metadata": {
    "papermill": {
     "duration": 0.007657,
     "end_time": "2023-04-16T03:37:31.951982",
     "exception": false,
     "start_time": "2023-04-16T03:37:31.944325",
     "status": "completed"
    },
    "tags": []
   },
   "source": [
    "**4.5 Make predictions and save the result**"
   ]
  },
  {
   "cell_type": "code",
   "execution_count": 9,
   "id": "e42e35ce",
   "metadata": {
    "execution": {
     "iopub.execute_input": "2023-04-16T03:37:31.971020Z",
     "iopub.status.busy": "2023-04-16T03:37:31.969857Z",
     "iopub.status.idle": "2023-04-16T03:37:32.867605Z",
     "shell.execute_reply": "2023-04-16T03:37:32.865771Z"
    },
    "papermill": {
     "duration": 0.909682,
     "end_time": "2023-04-16T03:37:32.869863",
     "exception": false,
     "start_time": "2023-04-16T03:37:31.960181",
     "status": "completed"
    },
    "tags": []
   },
   "outputs": [
    {
     "name": "stdout",
     "output_type": "stream",
     "text": [
      "Image 1: a7ea26360815d8492433b14cd8318607bcf99d9e.tif\n",
      "Probability: 0.0000\n",
      "Predicted Label: 0\n",
      "\n",
      "Image 2: 59d21133c845dff1ebc7a0c7cf40c145ea9e9664.tif\n",
      "Probability: 0.0000\n",
      "Predicted Label: 0\n",
      "\n",
      "Image 3: 5fde41ce8c6048a5c2f38eca12d6528fa312cdbb.tif\n",
      "Probability: 0.0000\n",
      "Predicted Label: 0\n",
      "\n",
      "Image 4: bd953a3b1db1f7041ee95ff482594c4f46c73ed0.tif\n",
      "Probability: 0.0000\n",
      "Predicted Label: 0\n",
      "\n",
      "Image 5: 523fc2efd7aba53e597ab0f69cc2cbded7a6ce62.tif\n",
      "Probability: 0.0000\n",
      "Predicted Label: 0\n",
      "\n",
      "Image 6: d23c66547f4a00555a174d2fcb860ae399b66edc.tif\n",
      "Probability: 0.0000\n",
      "Predicted Label: 0\n",
      "\n",
      "Image 7: fabf2fca23f71655974767e29eda86a9b2c97a72.tif\n",
      "Probability: 0.0000\n",
      "Predicted Label: 0\n",
      "\n",
      "Image 8: 9730b15862516b8641b9f0ff48db660d95031c32.tif\n",
      "Probability: 0.0000\n",
      "Predicted Label: 0\n",
      "\n",
      "Image 9: ee85348c0950c2e639776fb555e3452c1f8437c0.tif\n",
      "Probability: 0.0000\n",
      "Predicted Label: 0\n",
      "\n",
      "Image 10: ef12a0813c504d2d1b2ba485e78d380ad64a0622.tif\n",
      "Probability: 0.0000\n",
      "Predicted Label: 0\n",
      "\n"
     ]
    }
   ],
   "source": [
    "import numpy as np\n",
    "import os\n",
    "import torch\n",
    "import pandas as pd\n",
    "from skimage.io import imread\n",
    "\n",
    "# Load the trained model\n",
    "#model_path = \"/kaggle/working/model.pth\"\n",
    "#model = CancerNet()  # Initialize the CancerNet model from your model module\n",
    "#model.load_state_dict(torch.load(model_path))\n",
    "model.eval()  # Set the model to evaluation mode\n",
    "\n",
    "# Load test images\n",
    "test_images_path = '/kaggle/input/histopathologic-cancer-detection/test/'\n",
    "test_image_files = os.listdir(test_images_path)\n",
    "\n",
    "# Load test images and normalize them\n",
    "\n",
    "test_images = [imread(os.path.join(test_images_path, img_file)) for img_file in test_image_files[:10]]\n",
    "#test_images = [imread(os.path.join(test_images_path, img_file)) for img_file in test_image_files]\n",
    "test_images_normalized = np.array(test_images) / 255.0\n",
    "\n",
    "# Convert test_images_normalized to PyTorch tensor\n",
    "test_images_tensor = torch.tensor(test_images_normalized, dtype=torch.float32).permute(0, 3, 1, 2)\n",
    "\n",
    "# Make predictions on the first 10 test images\n",
    "with torch.no_grad():\n",
    "    model.eval()\n",
    "    predictions_10 = model(test_images_tensor).numpy()\n",
    "\n",
    "# Convert probabilities to binary predictions\n",
    "binary_predictions_10 = (predictions_10 > 0.5).astype(int).flatten()\n",
    "\n",
    "# Print the predictions\n",
    "for i in range(10):\n",
    "    print(f\"Image {i + 1}: {test_image_files[i]}\")\n",
    "    print(f\"Probability: {predictions_10[i][0]:.4f}\")\n",
    "    print(f\"Predicted Label: {binary_predictions_10[i]}\\n\")\n",
    "\n",
    "# Create a DataFrame with the image IDs and the predictions\n",
    "submission_df = pd.DataFrame({'id': [img_file[:-4] for img_file in test_image_files[:10]], 'label': binary_predictions_10})\n",
    "\n",
    "# Save the predictions to a CSV file\n",
    "submission_df.to_csv('/kaggle/working/submission.csv', index=False)\n"
   ]
  },
  {
   "cell_type": "code",
   "execution_count": 10,
   "id": "057d29d1",
   "metadata": {
    "execution": {
     "iopub.execute_input": "2023-04-16T03:37:32.887655Z",
     "iopub.status.busy": "2023-04-16T03:37:32.887310Z",
     "iopub.status.idle": "2023-04-16T03:37:32.896505Z",
     "shell.execute_reply": "2023-04-16T03:37:32.894855Z"
    },
    "papermill": {
     "duration": 0.021156,
     "end_time": "2023-04-16T03:37:32.898932",
     "exception": false,
     "start_time": "2023-04-16T03:37:32.877776",
     "status": "completed"
    },
    "tags": []
   },
   "outputs": [
    {
     "name": "stdout",
     "output_type": "stream",
     "text": [
      "/kaggle/working/model.pth not found\n",
      "/kaggle/working/working_directory.zip not found\n",
      "Contents of /kaggle/working/ directory:\n",
      "__notebook__.ipynb\n",
      "submission.csv\n"
     ]
    }
   ],
   "source": [
    "import os\n",
    "import shutil\n",
    "\n",
    "# Remove model.pth\n",
    "model_path = \"/kaggle/working/model.pth\"\n",
    "if os.path.isfile(model_path):\n",
    "    os.remove(model_path)\n",
    "    print(f\"Removed {model_path}\")\n",
    "else:\n",
    "    print(f\"{model_path} not found\")\n",
    "\n",
    "# Remove working_directory.zip\n",
    "zip_path = \"/kaggle/working/working_directory.zip\"\n",
    "if os.path.isfile(zip_path):\n",
    "    os.remove(zip_path)\n",
    "    print(f\"Removed {zip_path}\")\n",
    "else:\n",
    "    print(f\"{zip_path} not found\")\n",
    "\n",
    "    \n",
    "working_directory = '/kaggle/working/'\n",
    "list_of_files = os.listdir(working_directory)\n",
    "\n",
    "print(\"Contents of /kaggle/working/ directory:\")\n",
    "for file in list_of_files:\n",
    "    print(file)\n",
    "\n",
    "#shutil.make_archive('/kaggle/working/working_directory', 'zip', '/kaggle/working/')"
   ]
  },
  {
   "cell_type": "markdown",
   "id": "996055d8",
   "metadata": {
    "papermill": {
     "duration": 0.008623,
     "end_time": "2023-04-16T03:37:32.916262",
     "exception": false,
     "start_time": "2023-04-16T03:37:32.907639",
     "status": "completed"
    },
    "tags": []
   },
   "source": [
    "# 5. Conclusion\n",
    "\n",
    "Discuss and interpret results as well as learnings and takeaways. What did and did not help improve the performance of your models? What improvements could you try in the future?"
   ]
  },
  {
   "cell_type": "markdown",
   "id": "26f30c58",
   "metadata": {
    "papermill": {
     "duration": 0.008455,
     "end_time": "2023-04-16T03:37:32.933474",
     "exception": false,
     "start_time": "2023-04-16T03:37:32.925019",
     "status": "completed"
    },
    "tags": []
   },
   "source": [
    "# 6. Produce Deliverables\n",
    "\n",
    "High-Quality, Organized Jupyter Notebook Report, GitHub Repository, and screenshot of Kaggle leaderboard \n",
    "These deliverables serve two purposes- grade for this course and your project portfolio that you can show when you apply for jobs.\n"
   ]
  }
 ],
 "metadata": {
  "kernelspec": {
   "display_name": "Python 3",
   "language": "python",
   "name": "python3"
  },
  "language_info": {
   "codemirror_mode": {
    "name": "ipython",
    "version": 3
   },
   "file_extension": ".py",
   "mimetype": "text/x-python",
   "name": "python",
   "nbconvert_exporter": "python",
   "pygments_lexer": "ipython3",
   "version": "3.7.12"
  },
  "papermill": {
   "default_parameters": {},
   "duration": 32.519231,
   "end_time": "2023-04-16T03:37:34.667875",
   "environment_variables": {},
   "exception": null,
   "input_path": "__notebook__.ipynb",
   "output_path": "__notebook__.ipynb",
   "parameters": {},
   "start_time": "2023-04-16T03:37:02.148644",
   "version": "2.4.0"
  }
 },
 "nbformat": 4,
 "nbformat_minor": 5
}
